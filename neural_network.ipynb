{
 "cells": [
  {
   "cell_type": "code",
   "execution_count": 6,
   "metadata": {
    "collapsed": true,
    "ExecuteTime": {
     "start_time": "2023-12-13T14:13:39.358623Z",
     "end_time": "2023-12-13T14:13:39.360818Z"
    }
   },
   "outputs": [],
   "source": [
    "from sklearn.model_selection import train_test_split\n",
    "import pandas as pd\n",
    "from sklearn.preprocessing import MinMaxScaler"
   ]
  },
  {
   "cell_type": "code",
   "execution_count": 2,
   "outputs": [],
   "source": [
    "df = pd.read_csv('df',index_col=False)"
   ],
   "metadata": {
    "collapsed": false,
    "ExecuteTime": {
     "start_time": "2023-12-13T14:12:18.741950Z",
     "end_time": "2023-12-13T14:12:18.769755Z"
    }
   }
  },
  {
   "cell_type": "code",
   "execution_count": 3,
   "outputs": [],
   "source": [
    "dummies = pd.get_dummies(df['Type'])\n",
    "df = pd.concat([df.drop('Type', axis=1), dummies], axis=1)\n",
    "\n",
    "dummies = pd.get_dummies(df['Furnished'])\n",
    "df = pd.concat([df.drop('Furnished', axis=1), dummies], axis=1)\n",
    "\n",
    "df['Utilities_included'] = df['Utilities_included'].astype(int)"
   ],
   "metadata": {
    "collapsed": false,
    "ExecuteTime": {
     "start_time": "2023-12-13T14:12:20.682736Z",
     "end_time": "2023-12-13T14:12:20.779431Z"
    }
   }
  },
  {
   "cell_type": "code",
   "execution_count": 4,
   "outputs": [],
   "source": [
    "X = df.drop(['Title', 'Location', 'Price', 'Availability_date', 'URL'], axis=1).values\n",
    "y = df['Price'].values\n",
    "(X_train, X_test, y_train, y_test) = train_test_split(X, y, test_size=0.2)"
   ],
   "metadata": {
    "collapsed": false,
    "ExecuteTime": {
     "start_time": "2023-12-13T14:12:22.822222Z",
     "end_time": "2023-12-13T14:12:22.830133Z"
    }
   }
  },
  {
   "cell_type": "code",
   "execution_count": 7,
   "outputs": [],
   "source": [
    "scaler = MinMaxScaler()\n",
    "X_train = scaler.transform(X_train)\n",
    "X_test = scaler.transform(X_test)"
   ],
   "metadata": {
    "collapsed": false,
    "ExecuteTime": {
     "start_time": "2023-12-13T14:13:41.070800Z",
     "end_time": "2023-12-13T14:13:41.073058Z"
    }
   }
  }
 ],
 "metadata": {
  "kernelspec": {
   "display_name": "Python 3",
   "language": "python",
   "name": "python3"
  },
  "language_info": {
   "codemirror_mode": {
    "name": "ipython",
    "version": 2
   },
   "file_extension": ".py",
   "mimetype": "text/x-python",
   "name": "python",
   "nbconvert_exporter": "python",
   "pygments_lexer": "ipython2",
   "version": "2.7.6"
  }
 },
 "nbformat": 4,
 "nbformat_minor": 0
}
